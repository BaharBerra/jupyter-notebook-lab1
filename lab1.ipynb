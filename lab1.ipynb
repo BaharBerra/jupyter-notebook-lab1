{
 "cells": [
  {
   "cell_type": "markdown",
   "id": "9f3a8031-3e42-4802-b94a-cff060ad5c4d",
   "metadata": {},
   "source": [
    "# Burkina Faso\n",
    "### Area: 272,967 km²  \n",
    "### Population: 21.5 million  \n",
    "### Government: Presidential Republic  \n",
    "\n",
    "*Celebrities:*\n",
    "- *Thomas Sankara* - Former president\n",
    "- *Kandia Kouyaté* - Musician  \n",
    " \n",
    "### Cultural & Natural Attractions:\n",
    "- *Banfora Cascades* (Natural Attraction)\n",
    "- *Nazinga Game Ranch* (Natural Attraction)\n",
    "\n",
    "<u>Country Colors</u>:  \n",
    "<font color=\"green\">Green</font> and <font color=\"red\">Red</font>.\n",
    "\n",
    "### Table Example:\n",
    "| Natural Attraction     | Location     |\n",
    "|------------------------|--------------|\n",
    "| *Banfora Cascades*    | Banfora      |\n",
    "| *Nazinga Game Ranch*  | Nazinga      |\n",
    "\n",
    "![Burkina Faso Flag](https://upload.wikimedia.org/wikipedia/commons/3/31/Flag_of_Burkina_Faso.svg)\n",
    "\n",
    "### Flag Drawing (SVG):\n",
    "[More about Burkina Faso](https://en.wikipedia.org/wiki/Burkina_Faso)\n",
    "\n",
    "\n",
    "<svg width=\"300\" height=\"200\">\n",
    "  <rect width=\"300\" height=\"100\" style=\"fill:green\" />\n",
    "  <rect width=\"300\" height=\"100\" y=\"100\" style=\"fill:red\" />\n",
    "  <circle cx=\"150\" cy=\"100\" r=\"40\" style=\"fill:yellow\" />\n",
    "</svg>"
   ]
  },
  {
   "cell_type": "code",
   "execution_count": 8,
   "id": "96b2948a-b59b-4d13-a7f6-17fffe1eff0b",
   "metadata": {},
   "outputs": [
    {
     "name": "stdout",
     "output_type": "stream",
     "text": [
      "GCD of 16 and 36 is 4\n",
      "GCD of 12 and 54 is 6\n"
     ]
    }
   ],
   "source": [
    "def task_2(a, b):\n",
    "    # Input validation\n",
    "    if not (isinstance(a, int) and isinstance(b, int)):\n",
    "        raise ValueError(\"Both numbers must be integers.\")\n",
    "    if a < 0 or b < 0:\n",
    "        raise ValueError(\"Numbers must be non-negative.\")\n",
    "\n",
    "    # Euclidean algorithm\n",
    "    while b != 0:\n",
    "        a, b = b, a % b\n",
    "    return a\n",
    "\n",
    "#Test cases\n",
    "print(f\"GCD of 16 and 36 is {task_2(16, 36)}\")  \n",
    "print(f\"GCD of 12 and 54 is {task_2(12, 54)}\")  "
   ]
  },
  {
   "cell_type": "code",
   "execution_count": null,
   "id": "e96189cd-a859-45c0-96e1-5915375de1ab",
   "metadata": {},
   "outputs": [],
   "source": []
  }
 ],
 "metadata": {
  "kernelspec": {
   "display_name": "Python 3 (ipykernel)",
   "language": "python",
   "name": "python3"
  },
  "language_info": {
   "codemirror_mode": {
    "name": "ipython",
    "version": 3
   },
   "file_extension": ".py",
   "mimetype": "text/x-python",
   "name": "python",
   "nbconvert_exporter": "python",
   "pygments_lexer": "ipython3",
   "version": "3.12.4"
  }
 },
 "nbformat": 4,
 "nbformat_minor": 5
}
